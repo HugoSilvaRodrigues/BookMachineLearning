{
  "nbformat": 4,
  "nbformat_minor": 0,
  "metadata": {
    "colab": {
      "provenance": [],
      "authorship_tag": "ABX9TyOQSzw+x5JouK+4gZzGeXew",
      "include_colab_link": true
    },
    "kernelspec": {
      "name": "python3",
      "display_name": "Python 3"
    },
    "language_info": {
      "name": "python"
    },
    "accelerator": "GPU",
    "gpuClass": "standard"
  },
  "cells": [
    {
      "cell_type": "markdown",
      "metadata": {
        "id": "view-in-github",
        "colab_type": "text"
      },
      "source": [
        "<a href=\"https://colab.research.google.com/github/HugoSilvaRodrigues/BookMachineLearning/blob/main/folder/cap_3/Livro_cap_3_MultiClassClassifier.ipynb\" target=\"_parent\"><img src=\"https://colab.research.google.com/assets/colab-badge.svg\" alt=\"Open In Colab\"/></a>"
      ]
    },
    {
      "cell_type": "code",
      "execution_count": 1,
      "metadata": {
        "id": "wR8-_eD3W5Q0"
      },
      "outputs": [],
      "source": [
        "import pandas as pd\n",
        "from sklearn.datasets import fetch_openml\n",
        "import numpy as np"
      ]
    },
    {
      "cell_type": "code",
      "source": [
        "mnist=fetch_openml(\"mnist_784\",version=1)"
      ],
      "metadata": {
        "id": "xCXh5KA6ZZ33"
      },
      "execution_count": 2,
      "outputs": []
    },
    {
      "cell_type": "code",
      "source": [
        "X,y=mnist[\"data\"],mnist[\"target\"].astype(np.uint8)"
      ],
      "metadata": {
        "id": "fRvhOFAmZfox"
      },
      "execution_count": 3,
      "outputs": []
    },
    {
      "cell_type": "code",
      "source": [
        "X_train,y_train,X_test,y_test=X[:60000],y[:60000],X[60000:],y[60000:]\n",
        "some_digit=X_test.iloc[5]"
      ],
      "metadata": {
        "id": "1VEJpD_JanRV"
      },
      "execution_count": 4,
      "outputs": []
    },
    {
      "cell_type": "markdown",
      "source": [
        "#Most of the models can be a Binary Classifier and a MultiClass Classifier, so the construction of a MultiClass classifier is the same of a binary classifier"
      ],
      "metadata": {
        "id": "5CljlX8bttx2"
      }
    },
    {
      "cell_type": "code",
      "source": [
        "\n",
        "from sklearn.linear_model import SGDClassifier\n",
        "sgd_classifier=SGDClassifier()\n",
        "sgd_classifier.fit(X_train,y_train)\n"
      ],
      "metadata": {
        "colab": {
          "base_uri": "https://localhost:8080/"
        },
        "id": "nnuClqxMZ4yl",
        "outputId": "3e0d48df-76ec-4e01-d8ee-a1fade0ba869"
      },
      "execution_count": 5,
      "outputs": [
        {
          "output_type": "execute_result",
          "data": {
            "text/plain": [
              "SGDClassifier()"
            ]
          },
          "metadata": {},
          "execution_count": 5
        }
      ]
    },
    {
      "cell_type": "code",
      "source": [
        "print(sgd_classifier.predict([some_digit]))\n",
        "print(sgd_classifier.decision_function([some_digit]))#the model generates 9 predictions, the higher prediction corresponds to the model classification, in this case 1"
      ],
      "metadata": {
        "colab": {
          "base_uri": "https://localhost:8080/"
        },
        "id": "IOIxpnpja-GY",
        "outputId": "a6e21ec1-3e7b-44cc-af6a-a093ddfac7a5"
      },
      "execution_count": 6,
      "outputs": [
        {
          "output_type": "stream",
          "name": "stdout",
          "text": [
            "[1]\n",
            "[[-37422.19140522   5648.52553986  -2555.11123248  -3044.16326033\n",
            "  -11144.53835764  -6226.73277455  -9270.00689846  -3375.87937769\n",
            "   -3728.50290129  -2192.71440911]]\n"
          ]
        },
        {
          "output_type": "stream",
          "name": "stderr",
          "text": [
            "/usr/local/lib/python3.8/dist-packages/sklearn/base.py:450: UserWarning: X does not have valid feature names, but SGDClassifier was fitted with feature names\n",
            "  warnings.warn(\n",
            "/usr/local/lib/python3.8/dist-packages/sklearn/base.py:450: UserWarning: X does not have valid feature names, but SGDClassifier was fitted with feature names\n",
            "  warnings.warn(\n"
          ]
        }
      ]
    },
    {
      "cell_type": "code",
      "source": [
        "from sklearn.model_selection import cross_val_score\n",
        "cross_val_score(sgd_classifier,X_train,y_train,cv=3,scoring=\"accuracy\")"
      ],
      "metadata": {
        "colab": {
          "base_uri": "https://localhost:8080/"
        },
        "id": "BV6VMtecbwWv",
        "outputId": "0903b274-bed5-4cf9-ff35-7ea97e7ece01"
      },
      "execution_count": 7,
      "outputs": [
        {
          "output_type": "execute_result",
          "data": {
            "text/plain": [
              "array([0.8687 , 0.84265, 0.88115])"
            ]
          },
          "metadata": {},
          "execution_count": 7
        }
      ]
    },
    {
      "cell_type": "code",
      "source": [
        "X_train.var().max(),X_train.var().min()"
      ],
      "metadata": {
        "colab": {
          "base_uri": "https://localhost:8080/"
        },
        "id": "yoxjEe9ncUUH",
        "outputId": "71190865-416e-4250-9ff4-508c742cc1ca"
      },
      "execution_count": 8,
      "outputs": [
        {
          "output_type": "execute_result",
          "data": {
            "text/plain": [
              "(12953.628367111674, 0.0)"
            ]
          },
          "metadata": {},
          "execution_count": 8
        }
      ]
    },
    {
      "cell_type": "code",
      "source": [
        "from sklearn.preprocessing import StandardScaler\n",
        "\n",
        "scaler=StandardScaler()\n",
        "X_train_scaled=scaler.fit_transform(X_train.astype(np.float64))\n",
        "X_test_scaled=scaler.transform(X_test)"
      ],
      "metadata": {
        "id": "b3KWhXdgersW"
      },
      "execution_count": 9,
      "outputs": []
    },
    {
      "cell_type": "code",
      "source": [
        "#cross_val_score(sgd_classifier,X_train_scaled,y_train,cv=3,scoring=\"accuracy\")"
      ],
      "metadata": {
        "id": "fIURmAxxfQ1G"
      },
      "execution_count": 12,
      "outputs": []
    },
    {
      "cell_type": "code",
      "source": [
        "from sklearn.model_selection import cross_val_predict\n",
        "from sklearn.metrics import confusion_matrix\n",
        "y_train_predictions=cross_val_predict(sgd_classifier,X_train_scaled[:15000],y_train[:15000],cv=2)\n",
        "confusion_matrix(y_train[:15000],y_train_predictions)"
      ],
      "metadata": {
        "colab": {
          "base_uri": "https://localhost:8080/"
        },
        "id": "rsjkTCH8fTeT",
        "outputId": "b4890ebb-026a-4b8b-fcd5-b8bed4789c59"
      },
      "execution_count": 11,
      "outputs": [
        {
          "output_type": "stream",
          "name": "stderr",
          "text": [
            "/usr/local/lib/python3.8/dist-packages/sklearn/linear_model/_stochastic_gradient.py:696: ConvergenceWarning: Maximum number of iteration reached before convergence. Consider increasing max_iter to improve the fit.\n",
            "  warnings.warn(\n"
          ]
        },
        {
          "output_type": "execute_result",
          "data": {
            "text/plain": [
              "array([[1408,    0,   20,    4,    3,   18,   16,    2,   25,    0],\n",
              "       [   0, 1609,   17,    8,    2,   15,    1,    1,   34,    3],\n",
              "       [  14,   10, 1254,   36,   13,   11,   24,   15,   80,    5],\n",
              "       [   9,   12,   51, 1311,    0,   54,    6,   19,   62,   24],\n",
              "       [   4,    7,   16,    7, 1311,    3,   14,   10,   43,   53],\n",
              "       [  11,    9,   11,   49,   16, 1088,   27,    3,   85,   19],\n",
              "       [  14,    4,   16,    1,   20,   18, 1399,    0,   18,    0],\n",
              "       [   4,    2,   21,   11,   16,    0,    2, 1431,   13,   93],\n",
              "       [  11,   20,   23,   50,    4,   36,   14,    4, 1254,   16],\n",
              "       [  11,    6,   12,   36,   41,    7,    1,   40,   37, 1312]])"
            ]
          },
          "metadata": {},
          "execution_count": 11
        }
      ]
    },
    {
      "cell_type": "code",
      "source": [
        "conf_mx=confusion_matrix(y_train[:15000],y_train_predictions)\n",
        "import matplotlib.pyplot as plt\n",
        "plt.matshow(conf_mx,cmap=plt.cm.gray)\n",
        "plt.show()#The model is struggling to predict 5 correctely "
      ],
      "metadata": {
        "colab": {
          "base_uri": "https://localhost:8080/",
          "height": 275
        },
        "id": "XUBb9pZGhXA7",
        "outputId": "2dcce242-04d3-4259-b92c-46999fb177b9"
      },
      "execution_count": 13,
      "outputs": [
        {
          "output_type": "display_data",
          "data": {
            "text/plain": [
              "<Figure size 288x288 with 1 Axes>"
            ],
            "image/png": "[encoded data removed]"
          },
          "metadata": {
            "needs_background": "light"
          }
        }
      ]
    },
    {
      "cell_type": "code",
      "source": [
        "row_sums=conf_mx.sum(axis=1,keepdims=True)\n",
        "norm_conf_mx=conf_mx/row_sums\n",
        "\n",
        "np.fill_diagonal(norm_conf_mx,0)\n",
        "plt.matshow(norm_conf_mx,cmap=plt.cm.gray)\n",
        "plt.show() #here we can see the model also has difficulties to predict 8"
      ],
      "metadata": {
        "colab": {
          "base_uri": "https://localhost:8080/",
          "height": 275
        },
        "id": "gfT-6RfNjM_v",
        "outputId": "19abe6a5-1ee7-43e0-d773-b3abc9a17265"
      },
      "execution_count": 14,
      "outputs": [
        {
          "output_type": "display_data",
          "data": {
            "text/plain": [
              "<Figure size 288x288 with 1 Axes>"
            ],
            "image/png": "[encoded data removed]"
          },
          "metadata": {
            "needs_background": "light"
          }
        }
      ]
    },
    {
      "cell_type": "markdown",
      "source": [
        "# Now let's build a MultiLabel model, a model who can predict two outputs for the same data\n"
      ],
      "metadata": {
        "id": "IKY0riXDjyap"
      }
    },
    {
      "cell_type": "code",
      "source": [
        "y_train_higher= (y_train>=7)\n",
        "y_train_odd= (y_train %2==0)\n",
        "y_multilabel=np.c_[y_train_higher,y_train_odd]\n",
        "print(y_multilabel)"
      ],
      "metadata": {
        "colab": {
          "base_uri": "https://localhost:8080/"
        },
        "id": "aI0chyw6smk4",
        "outputId": "42aeae91-e4e2-461e-a637-472f33b2e972"
      },
      "execution_count": 15,
      "outputs": [
        {
          "output_type": "stream",
          "name": "stdout",
          "text": [
            "[[False False]\n",
            " [False  True]\n",
            " [False  True]\n",
            " ...\n",
            " [False False]\n",
            " [False  True]\n",
            " [ True  True]]\n"
          ]
        }
      ]
    },
    {
      "cell_type": "code",
      "source": [
        "from sklearn.neighbors import KNeighborsClassifier\n",
        "knn=KNeighborsClassifier()\n",
        "knn.fit(X_train,y_multilabel)"
      ],
      "metadata": {
        "colab": {
          "base_uri": "https://localhost:8080/"
        },
        "id": "JN4ldKzftESz",
        "outputId": "6081544f-4d96-4698-bac6-ac010a7ab7f0"
      },
      "execution_count": 16,
      "outputs": [
        {
          "output_type": "execute_result",
          "data": {
            "text/plain": [
              "KNeighborsClassifier()"
            ]
          },
          "metadata": {},
          "execution_count": 16
        }
      ]
    },
    {
      "cell_type": "code",
      "source": [
        "knn.predict([some_digit])"
      ],
      "metadata": {
        "colab": {
          "base_uri": "https://localhost:8080/"
        },
        "id": "XWZdcG5RtW8M",
        "outputId": "20be65ad-6623-4458-a425-060b2b85b143"
      },
      "execution_count": 18,
      "outputs": [
        {
          "output_type": "stream",
          "name": "stderr",
          "text": [
            "/usr/local/lib/python3.8/dist-packages/sklearn/base.py:450: UserWarning: X does not have valid feature names, but KNeighborsClassifier was fitted with feature names\n",
            "  warnings.warn(\n"
          ]
        },
        {
          "output_type": "execute_result",
          "data": {
            "text/plain": [
              "array([[False, False]])"
            ]
          },
          "metadata": {},
          "execution_count": 18
        }
      ]
    },
    {
      "cell_type": "code",
      "source": [
        "print(y_test.iloc[5])"
      ],
      "metadata": {
        "colab": {
          "base_uri": "https://localhost:8080/"
        },
        "id": "optZh4yptcaa",
        "outputId": "6bee10b7-6b63-4768-8a63-afaa7a4bd3e8"
      },
      "execution_count": 19,
      "outputs": [
        {
          "output_type": "stream",
          "name": "stdout",
          "text": [
            "1\n"
          ]
        }
      ]
    },
    {
      "cell_type": "code",
      "source": [],
      "metadata": {
        "id": "3KhbQCb4tpSq"
      },
      "execution_count": null,
      "outputs": []
    }
  ]
}